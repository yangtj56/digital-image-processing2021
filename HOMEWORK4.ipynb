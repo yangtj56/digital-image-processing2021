{
 "cells": [
  {
   "cell_type": "markdown",
   "metadata": {},
   "source": [
    "#coin"
   ]
  },
  {
   "cell_type": "code",
   "execution_count": null,
   "metadata": {},
   "outputs": [],
   "source": [
    "import numpy as np\n",
    "import cv2\n",
    "from matplotlib import pyplot as plt"
   ]
  },
  {
   "cell_type": "code",
   "execution_count": null,
   "metadata": {},
   "outputs": [],
   "source": [
    "img = cv2.imread('sIMG_8253.JPG',1)\n",
    "img = img[130:630, 260:760]\n",
    "gray = cv2.cvtColor(img, cv2.COLOR_BGR2GRAY)\n",
    "gray_blur = cv2.GaussianBlur(gray, (15, 15), 0)\n",
    "thresh = cv2.adaptiveThreshold(gray_blur, 255, cv2.ADAPTIVE_THRESH_GAUSSIAN_C,cv2.THRESH_BINARY_INV, 11, 1)\n",
    "kernel = np.ones((4, 4), np.uint8)\n",
    "opening = cv2.morphologyEx(thresh, cv2.MORPH_OPEN,kernel,iterations = 1)\n",
    "dilation = cv2.dilate(opening,kernel,iterations = 1)\n",
    "erosion = cv2.erode(dilation,kernel,iterations = 1)\n",
    "closing = cv2.morphologyEx(erosion, cv2.MORPH_CLOSE,kernel, iterations=1)\n",
    "contours, hierarchy = cv2.findContours(closing, cv2.RETR_EXTERNAL,cv2.CHAIN_APPROX_SIMPLE)\n",
    "for cnt in contours:\n",
    "    area = cv2.contourArea(cnt)\n",
    "    ellipse = cv2.fitEllipse(cnt)\n",
    "    cv2.ellipse(img, ellipse, (0,255,0), 2)\n",
    "plt.figure(figsize=(15,15))\n",
    "plt.subplot(331),plt.imshow(img,\"gray\"),plt.title('Input')\n",
    "plt.subplot(332),plt.imshow(closing,\"gray\"),plt.title('Closing')\n",
    "plt.subplot(333),plt.imshow(thresh,\"gray\"),plt.title('Thresh')\n",
    "plt.show()"
   ]
  },
  {
   "cell_type": "code",
   "execution_count": null,
   "metadata": {},
   "outputs": [],
   "source": [
    "img = cv2.imread('sIMG_8255.JPG',1)\n",
    "img = img[60:660, 50:750]\n",
    "gray = cv2.cvtColor(img, cv2.COLOR_BGR2GRAY)\n",
    "gray_blur = cv2.GaussianBlur(gray, (15, 15), 0)\n",
    "thresh = cv2.adaptiveThreshold(gray_blur, 255, cv2.ADAPTIVE_THRESH_GAUSSIAN_C,cv2.THRESH_BINARY_INV, 11, 1)\n",
    "kernel = np.ones((4, 4), np.uint8)\n",
    "opening = cv2.morphologyEx(thresh, cv2.MORPH_OPEN,kernel,iterations = 1)\n",
    "dilation = cv2.dilate(opening,kernel,iterations = 1)\n",
    "erosion = cv2.erode(dilation,kernel,iterations = 1)\n",
    "closing = cv2.morphologyEx(erosion, cv2.MORPH_CLOSE,kernel, iterations=4)\n",
    "contours, hierarchy = cv2.findContours(closing, cv2.RETR_EXTERNAL,cv2.CHAIN_APPROX_SIMPLE)\n",
    "for cnt in contours:\n",
    "    area = cv2.contourArea(cnt)\n",
    "    if area >9000 :\n",
    "        continue\n",
    "    if len(cnt) < 8:\n",
    "        continue\n",
    "    ellipse = cv2.fitEllipse(cnt)\n",
    "    cv2.ellipse(img, ellipse, (0,255,0), 2)\n",
    "plt.figure(figsize=(15,15))\n",
    "plt.subplot(331),plt.imshow(img,\"gray\"),plt.title('Input')\n",
    "plt.subplot(332),plt.imshow(closing,\"gray\"),plt.title('Closing')\n",
    "plt.subplot(333),plt.imshow(thresh,\"gray\"),plt.title('Thresh')\n",
    "plt.show()\n"
   ]
  },
  {
   "cell_type": "code",
   "execution_count": null,
   "metadata": {},
   "outputs": [],
   "source": [
    "img = cv2.imread('sIMG_8256.JPG',1)\n",
    "gray = cv2.cvtColor(img, cv2.COLOR_BGR2GRAY)\n",
    "gray_blur = cv2.GaussianBlur(gray, (15, 15), 0)\n",
    "thresh = cv2.adaptiveThreshold(gray_blur, 255, cv2.ADAPTIVE_THRESH_GAUSSIAN_C,cv2.THRESH_BINARY_INV, 11, 1)\n",
    "kernel = np.ones((4, 4), np.uint8)\n",
    "kerne2 = np.ones((5, 5), np.uint8)\n",
    "opening = cv2.morphologyEx(thresh, cv2.MORPH_OPEN,kernel,iterations = 1)\n",
    "dilation = cv2.dilate(opening,kernel,iterations = 1)\n",
    "erosion = cv2.erode(dilation,kernel,iterations = 1)\n",
    "closing = cv2.morphologyEx(erosion, cv2.MORPH_CLOSE,kernel, iterations=2)\n",
    "contours, hierarchy = cv2.findContours(closing, cv2.RETR_EXTERNAL,cv2.CHAIN_APPROX_SIMPLE)\n",
    "for cnt in contours:\n",
    "    area = cv2.contourArea(cnt)\n",
    "    if area < 1000 or area > 7000:\n",
    "        continue\n",
    "    if len(cnt) < 8:\n",
    "        continue\n",
    "    ellipse = cv2.fitEllipse(cnt)\n",
    "    cv2.ellipse(img, ellipse, (0,255,0), 2)\n",
    "plt.figure(figsize=(15,15))\n",
    "plt.subplot(331),plt.imshow(img,\"gray\"),plt.title('Input')\n",
    "plt.subplot(332),plt.imshow(closing,\"gray\"),plt.title('Closing')\n",
    "plt.subplot(333),plt.imshow(thresh,\"gray\"),plt.title('Thresh')\n",
    "plt.show()"
   ]
  },
  {
   "cell_type": "code",
   "execution_count": null,
   "metadata": {},
   "outputs": [],
   "source": []
  },
  {
   "cell_type": "code",
   "execution_count": null,
   "metadata": {},
   "outputs": [],
   "source": []
  },
  {
   "cell_type": "code",
   "execution_count": null,
   "metadata": {},
   "outputs": [],
   "source": []
  },
  {
   "cell_type": "code",
   "execution_count": null,
   "metadata": {},
   "outputs": [],
   "source": []
  },
  {
   "cell_type": "code",
   "execution_count": null,
   "metadata": {},
   "outputs": [],
   "source": []
  }
 ],
 "metadata": {
  "kernelspec": {
   "display_name": "",
   "name": ""
  },
  "language_info": {
   "name": ""
  }
 },
 "nbformat": 4,
 "nbformat_minor": 4
}
