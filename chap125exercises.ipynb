{
 "cells": [
  {
   "cell_type": "markdown",
   "metadata": {},
   "source": [
    "#1.2.5  excersises:  Create a Paint application with adjustable colors and brush radius using trackbars."
   ]
  },
  {
   "cell_type": "code",
   "execution_count": 2,
   "metadata": {},
   "outputs": [],
   "source": [
    "import cv2\n",
    "import numpy as np"
   ]
  },
  {
   "cell_type": "code",
   "execution_count": null,
   "metadata": {},
   "outputs": [],
   "source": [
    "# 定义回调函数，此程序无需回调，所以Pass即可\n",
    "def callback(object):\n",
    "    pass\n",
    "\n",
    "\n",
    "img = np.zeros((300, 400, 3), np.uint8)\n",
    "cv2.namedWindow('image')\n",
    "\n",
    "# 创建一个开关滑动条，只有两个值，起开关按钮作用\n",
    "switch = '0:OFF\\n1:ON'\n",
    "cv2.createTrackbar(switch, 'image', 0, 1, callback)\n",
    "\n",
    "cv2.createTrackbar('R', 'image', 0, 255, callback)\n",
    "cv2.createTrackbar('B', 'image', 0, 255, callback)\n",
    "cv2.createTrackbar('G', 'image', 0, 255, callback)\n",
    "\n",
    "\n",
    "def Mouseback(event, x, y, flags, param):\n",
    "    if flags == cv2.EVENT_FLAG_LBUTTON and event == cv2.EVENT_MOUSEMOVE:\n",
    "        cv2.circle(img, (x, y), 1, [b, g, r], 1)\n",
    "\n",
    "\n",
    "img[:] = [255, 255, 255]\n",
    "\n",
    "while(True):\n",
    "    r = cv2.getTrackbarPos('R', 'image')\n",
    "    g = cv2.getTrackbarPos('G', 'image')\n",
    "    b = cv2.getTrackbarPos('B', 'image')\n",
    "    if cv2.getTrackbarPos(switch, 'image') == 1:\n",
    "        cv2.setMouseCallback('image', Mouseback)\n",
    "    else:\n",
    "        img[:] = [255, 255, 255]\n",
    "    if cv2.waitKey(10) & 0xFF == ord('q'):\n",
    "        break\n",
    "    cv2.imshow('image', img)\n",
    "cv2.destroyAllWindows()"
   ]
  }
 ],
 "metadata": {
  "kernelspec": {
   "display_name": "Python 3",
   "language": "python",
   "name": "python3"
  },
  "language_info": {
   "codemirror_mode": {
    "name": "ipython",
    "version": 3
   },
   "file_extension": ".py",
   "mimetype": "text/x-python",
   "name": "python",
   "nbconvert_exporter": "python",
   "pygments_lexer": "ipython3",
   "version": "3.8.5"
  }
 },
 "nbformat": 4,
 "nbformat_minor": 4
}
